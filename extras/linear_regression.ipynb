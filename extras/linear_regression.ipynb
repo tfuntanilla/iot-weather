{
  "nbformat": 4,
  "nbformat_minor": 0,
  "metadata": {
    "colab": {
      "name": "linear_regression.ipynb",
      "version": "0.3.2",
      "provenance": [],
      "collapsed_sections": [],
      "toc_visible": true
    },
    "kernelspec": {
      "name": "python3",
      "display_name": "Python 3"
    }
  },
  "cells": [
    {
      "cell_type": "markdown",
      "metadata": {
        "id": "dwWSUhN5dpRh",
        "colab_type": "text"
      },
      "source": [
        "# Linear Regression\n",
        "\n",
        "We want to predict future temperature given the current real-time weather data returned by IoT sensors. \n",
        "\n",
        "The linear regression model is first trained on a publicly available [historical weather dataset](https://github.com/amcquistan/WeatherPredictPythonML) collected using the [Weather Underground API](https://www.wunderground.com/). This dataset contains weather metrics from 1/4/15 to 9/27/17 for the city of Lincoln, Nebraska. For each variable, metrics going three days back are collected. We followed this tutorial in training the model: [https://stackabuse.com/using-machine-learning-to-predict-the-weather-part-2/](https://stackabuse.com/using-machine-learning-to-predict-the-weather-part-2/).\n",
        "\n",
        "For future training, data from the IoT sensors can be included.\n",
        "\n"
      ]
    },
    {
      "cell_type": "markdown",
      "metadata": {
        "id": "7GidbhyriTYW",
        "colab_type": "text"
      },
      "source": [
        "### Note: Please use [Google Colab](https://colab.research.google.com/notebooks/welcome.ipynb#recent=true) to run this notebook.\n",
        "\n",
        "### Prerequisites: \n",
        "Upload the **historical_weather_data.csv** file using the Files tab in Google Colab."
      ]
    },
    {
      "cell_type": "markdown",
      "metadata": {
        "id": "MYzaLb6ckEJd",
        "colab_type": "text"
      },
      "source": [
        "### Downgrade a particular library that is needed later.\n",
        "Google Colab's version of this library is not compatible with another library (statsmodel) that is used later."
      ]
    },
    {
      "cell_type": "code",
      "metadata": {
        "id": "1PzuRhCWkDSs",
        "colab_type": "code",
        "outputId": "a6f40cc6-9c6b-476c-d39b-e5c5aac703d5",
        "colab": {
          "base_uri": "https://localhost:8080/",
          "height": 207
        }
      },
      "source": [
        "# This is necessary to avoid incompatibility issues with statsmodels library which is needed later.\n",
        "# It will show an error for another library, but that's okay since we won't need that other library.\n",
        "!pip install scipy==1.2.1"
      ],
      "execution_count": 1,
      "outputs": [
        {
          "output_type": "stream",
          "text": [
            "Collecting scipy==1.2.1\n",
            "\u001b[?25l  Downloading https://files.pythonhosted.org/packages/7f/5f/c48860704092933bf1c4c1574a8de1ffd16bf4fde8bab190d747598844b2/scipy-1.2.1-cp36-cp36m-manylinux1_x86_64.whl (24.8MB)\n",
            "\u001b[K     |████████████████████████████████| 24.8MB 1.5MB/s \n",
            "\u001b[?25hRequirement already satisfied: numpy>=1.8.2 in /usr/local/lib/python3.6/dist-packages (from scipy==1.2.1) (1.16.4)\n",
            "\u001b[31mERROR: albumentations 0.1.12 has requirement imgaug<0.2.7,>=0.2.5, but you'll have imgaug 0.2.9 which is incompatible.\u001b[0m\n",
            "Installing collected packages: scipy\n",
            "  Found existing installation: scipy 1.3.0\n",
            "    Uninstalling scipy-1.3.0:\n",
            "      Successfully uninstalled scipy-1.3.0\n",
            "Successfully installed scipy-1.2.1\n"
          ],
          "name": "stdout"
        }
      ]
    },
    {
      "cell_type": "markdown",
      "metadata": {
        "id": "1IRpKDgPkNuH",
        "colab_type": "text"
      },
      "source": [
        "### Save the data into a pandas dataframe.\n"
      ]
    },
    {
      "cell_type": "code",
      "metadata": {
        "id": "sqceRVxwdpRi",
        "colab_type": "code",
        "colab": {}
      },
      "source": [
        "import pandas as pd\n",
        "df = pd.read_csv('historical_weather_data.csv').set_index('date')"
      ],
      "execution_count": 0,
      "outputs": []
    },
    {
      "cell_type": "markdown",
      "metadata": {
        "id": "zQ9UB8FUflh4",
        "colab_type": "text"
      },
      "source": [
        "### Assess the correlation in the data.\n",
        "This will output the correlation values from most negatively correlated to the most positively correlated."
      ]
    },
    {
      "cell_type": "code",
      "metadata": {
        "id": "Z_xyR7RHdpRn",
        "colab_type": "code",
        "outputId": "0f4bd2b4-18f3-4af6-98fd-b42935e39ac3",
        "colab": {
          "base_uri": "https://localhost:8080/",
          "height": 1258
        }
      },
      "source": [
        "df.corr()[['meantempm']].sort_values('meantempm')"
      ],
      "execution_count": 3,
      "outputs": [
        {
          "output_type": "execute_result",
          "data": {
            "text/html": [
              "<div>\n",
              "<style scoped>\n",
              "    .dataframe tbody tr th:only-of-type {\n",
              "        vertical-align: middle;\n",
              "    }\n",
              "\n",
              "    .dataframe tbody tr th {\n",
              "        vertical-align: top;\n",
              "    }\n",
              "\n",
              "    .dataframe thead th {\n",
              "        text-align: right;\n",
              "    }\n",
              "</style>\n",
              "<table border=\"1\" class=\"dataframe\">\n",
              "  <thead>\n",
              "    <tr style=\"text-align: right;\">\n",
              "      <th></th>\n",
              "      <th>meantempm</th>\n",
              "    </tr>\n",
              "  </thead>\n",
              "  <tbody>\n",
              "    <tr>\n",
              "      <th>maxpressurem_1</th>\n",
              "      <td>-0.519699</td>\n",
              "    </tr>\n",
              "    <tr>\n",
              "      <th>maxpressurem_2</th>\n",
              "      <td>-0.425666</td>\n",
              "    </tr>\n",
              "    <tr>\n",
              "      <th>maxpressurem_3</th>\n",
              "      <td>-0.408902</td>\n",
              "    </tr>\n",
              "    <tr>\n",
              "      <th>meanpressurem_1</th>\n",
              "      <td>-0.365682</td>\n",
              "    </tr>\n",
              "    <tr>\n",
              "      <th>meanpressurem_2</th>\n",
              "      <td>-0.269896</td>\n",
              "    </tr>\n",
              "    <tr>\n",
              "      <th>meanpressurem_3</th>\n",
              "      <td>-0.263008</td>\n",
              "    </tr>\n",
              "    <tr>\n",
              "      <th>minpressurem_1</th>\n",
              "      <td>-0.201003</td>\n",
              "    </tr>\n",
              "    <tr>\n",
              "      <th>minhumidity_1</th>\n",
              "      <td>-0.148602</td>\n",
              "    </tr>\n",
              "    <tr>\n",
              "      <th>minhumidity_2</th>\n",
              "      <td>-0.143211</td>\n",
              "    </tr>\n",
              "    <tr>\n",
              "      <th>minhumidity_3</th>\n",
              "      <td>-0.118564</td>\n",
              "    </tr>\n",
              "    <tr>\n",
              "      <th>minpressurem_2</th>\n",
              "      <td>-0.104455</td>\n",
              "    </tr>\n",
              "    <tr>\n",
              "      <th>minpressurem_3</th>\n",
              "      <td>-0.102955</td>\n",
              "    </tr>\n",
              "    <tr>\n",
              "      <th>precipm_2</th>\n",
              "      <td>0.084394</td>\n",
              "    </tr>\n",
              "    <tr>\n",
              "      <th>precipm_1</th>\n",
              "      <td>0.086617</td>\n",
              "    </tr>\n",
              "    <tr>\n",
              "      <th>precipm_3</th>\n",
              "      <td>0.098684</td>\n",
              "    </tr>\n",
              "    <tr>\n",
              "      <th>maxhumidity_1</th>\n",
              "      <td>0.132466</td>\n",
              "    </tr>\n",
              "    <tr>\n",
              "      <th>maxhumidity_2</th>\n",
              "      <td>0.151358</td>\n",
              "    </tr>\n",
              "    <tr>\n",
              "      <th>maxhumidity_3</th>\n",
              "      <td>0.167035</td>\n",
              "    </tr>\n",
              "    <tr>\n",
              "      <th>maxdewptm_3</th>\n",
              "      <td>0.829230</td>\n",
              "    </tr>\n",
              "    <tr>\n",
              "      <th>maxtempm_3</th>\n",
              "      <td>0.832974</td>\n",
              "    </tr>\n",
              "    <tr>\n",
              "      <th>mindewptm_3</th>\n",
              "      <td>0.833546</td>\n",
              "    </tr>\n",
              "    <tr>\n",
              "      <th>meandewptm_3</th>\n",
              "      <td>0.834251</td>\n",
              "    </tr>\n",
              "    <tr>\n",
              "      <th>mintempm_3</th>\n",
              "      <td>0.836340</td>\n",
              "    </tr>\n",
              "    <tr>\n",
              "      <th>maxdewptm_2</th>\n",
              "      <td>0.839893</td>\n",
              "    </tr>\n",
              "    <tr>\n",
              "      <th>meandewptm_2</th>\n",
              "      <td>0.848907</td>\n",
              "    </tr>\n",
              "    <tr>\n",
              "      <th>mindewptm_2</th>\n",
              "      <td>0.852760</td>\n",
              "    </tr>\n",
              "    <tr>\n",
              "      <th>mintempm_2</th>\n",
              "      <td>0.854320</td>\n",
              "    </tr>\n",
              "    <tr>\n",
              "      <th>meantempm_3</th>\n",
              "      <td>0.855662</td>\n",
              "    </tr>\n",
              "    <tr>\n",
              "      <th>maxtempm_2</th>\n",
              "      <td>0.863906</td>\n",
              "    </tr>\n",
              "    <tr>\n",
              "      <th>meantempm_2</th>\n",
              "      <td>0.881221</td>\n",
              "    </tr>\n",
              "    <tr>\n",
              "      <th>maxdewptm_1</th>\n",
              "      <td>0.887235</td>\n",
              "    </tr>\n",
              "    <tr>\n",
              "      <th>meandewptm_1</th>\n",
              "      <td>0.896681</td>\n",
              "    </tr>\n",
              "    <tr>\n",
              "      <th>mindewptm_1</th>\n",
              "      <td>0.899000</td>\n",
              "    </tr>\n",
              "    <tr>\n",
              "      <th>mintempm_1</th>\n",
              "      <td>0.905423</td>\n",
              "    </tr>\n",
              "    <tr>\n",
              "      <th>maxtempm_1</th>\n",
              "      <td>0.923787</td>\n",
              "    </tr>\n",
              "    <tr>\n",
              "      <th>meantempm_1</th>\n",
              "      <td>0.937563</td>\n",
              "    </tr>\n",
              "    <tr>\n",
              "      <th>mintempm</th>\n",
              "      <td>0.973122</td>\n",
              "    </tr>\n",
              "    <tr>\n",
              "      <th>maxtempm</th>\n",
              "      <td>0.976328</td>\n",
              "    </tr>\n",
              "    <tr>\n",
              "      <th>meantempm</th>\n",
              "      <td>1.000000</td>\n",
              "    </tr>\n",
              "  </tbody>\n",
              "</table>\n",
              "</div>"
            ],
            "text/plain": [
              "                 meantempm\n",
              "maxpressurem_1   -0.519699\n",
              "maxpressurem_2   -0.425666\n",
              "maxpressurem_3   -0.408902\n",
              "meanpressurem_1  -0.365682\n",
              "meanpressurem_2  -0.269896\n",
              "meanpressurem_3  -0.263008\n",
              "minpressurem_1   -0.201003\n",
              "minhumidity_1    -0.148602\n",
              "minhumidity_2    -0.143211\n",
              "minhumidity_3    -0.118564\n",
              "minpressurem_2   -0.104455\n",
              "minpressurem_3   -0.102955\n",
              "precipm_2         0.084394\n",
              "precipm_1         0.086617\n",
              "precipm_3         0.098684\n",
              "maxhumidity_1     0.132466\n",
              "maxhumidity_2     0.151358\n",
              "maxhumidity_3     0.167035\n",
              "maxdewptm_3       0.829230\n",
              "maxtempm_3        0.832974\n",
              "mindewptm_3       0.833546\n",
              "meandewptm_3      0.834251\n",
              "mintempm_3        0.836340\n",
              "maxdewptm_2       0.839893\n",
              "meandewptm_2      0.848907\n",
              "mindewptm_2       0.852760\n",
              "mintempm_2        0.854320\n",
              "meantempm_3       0.855662\n",
              "maxtempm_2        0.863906\n",
              "meantempm_2       0.881221\n",
              "maxdewptm_1       0.887235\n",
              "meandewptm_1      0.896681\n",
              "mindewptm_1       0.899000\n",
              "mintempm_1        0.905423\n",
              "maxtempm_1        0.923787\n",
              "meantempm_1       0.937563\n",
              "mintempm          0.973122\n",
              "maxtempm          0.976328\n",
              "meantempm         1.000000"
            ]
          },
          "metadata": {
            "tags": []
          },
          "execution_count": 3
        }
      ]
    },
    {
      "cell_type": "markdown",
      "metadata": {
        "id": "junVW9RbdpRr",
        "colab_type": "text"
      },
      "source": [
        "### Select variables of interest.\n",
        "Features that have correlation values less than the absolute value of 0.6 are removed.\n",
        "\n",
        "Since the mintempm and maxtempm variables are for the same day as the prediction variable meantempm, they are also removed.\n",
        "\n",
        "A new DataFrame that contains only the variables of interest is created."
      ]
    },
    {
      "cell_type": "code",
      "metadata": {
        "id": "M0lmCpsFdpRr",
        "colab_type": "code",
        "colab": {}
      },
      "source": [
        "predictors = ['meantempm_1',  'meantempm_2',  'meantempm_3', \n",
        "              'mintempm_1',   'mintempm_2',   'mintempm_3',\n",
        "              'meandewptm_1', 'meandewptm_2', 'meandewptm_3',\n",
        "              'maxdewptm_1',  'maxdewptm_2',  'maxdewptm_3',\n",
        "              'mindewptm_1',  'mindewptm_2',  'mindewptm_3',\n",
        "              'maxtempm_1',   'maxtempm_2',   'maxtempm_3']\n",
        "df2 = df[['meantempm'] + predictors]"
      ],
      "execution_count": 0,
      "outputs": []
    },
    {
      "cell_type": "markdown",
      "metadata": {
        "id": "YCFNRex_dpRt",
        "colab_type": "text"
      },
      "source": [
        "### Plot the relationship of each predictor to meantempm.\n",
        "The value for future mean temperature is what we want to predict. This plot will give us a visual of the relationship of each feature against the mean temp."
      ]
    },
    {
      "cell_type": "code",
      "metadata": {
        "id": "KcOauzTodpRv",
        "colab_type": "code",
        "outputId": "1ca2db5b-8e7c-4cd7-99b3-a7480efc59f4",
        "colab": {
          "base_uri": "https://localhost:8080/",
          "height": 1262
        }
      },
      "source": [
        "import matplotlib\n",
        "import matplotlib.pyplot as plt\n",
        "import numpy as np\n",
        "\n",
        "%matplotlib inline\n",
        "\n",
        "plt.rcParams['figure.figsize'] = [16, 22]\n",
        "fig, axes = plt.subplots(nrows=6, ncols=3, sharey=True)\n",
        "\n",
        "arr = np.array(predictors).reshape(6, 3)\n",
        "\n",
        "for row, col_arr in enumerate(arr):\n",
        "    for col, feature in enumerate(col_arr):\n",
        "        axes[row, col].scatter(df2[feature], df2['meantempm'])\n",
        "        if col == 0:\n",
        "            axes[row, col].set(xlabel=feature, ylabel='meantempm')\n",
        "        else:\n",
        "            axes[row, col].set(xlabel=feature)\n",
        "plt.show()"
      ],
      "execution_count": 6,
      "outputs": [
        {
          "output_type": "display_data",
          "data": {
            "image/png": "[encoded data removed]",
            "text/plain": [
              "<Figure size 1152x1584 with 18 Axes>"
            ]
          },
          "metadata": {
            "tags": []
          }
        }
      ]
    },
    {
      "cell_type": "markdown",
      "metadata": {
        "id": "qcWM_EBNdpRx",
        "colab_type": "text"
      },
      "source": [
        "We see that the remaining predictor variables show a good linear relationship with the response variable (meantempm)."
      ]
    },
    {
      "cell_type": "markdown",
      "metadata": {
        "id": "qbWfxir9dpRy",
        "colab_type": "text"
      },
      "source": [
        "### Using step-wise regression to build a robust model.\n",
        "\n",
        "Backwards elimination is used for selecting statistically significant predictors. We can remove those predictors based on the results of this test.\n"
      ]
    },
    {
      "cell_type": "code",
      "metadata": {
        "id": "btf-aYThdpRz",
        "colab_type": "code",
        "outputId": "d779cb1a-9924-4451-c835-81967b87950c",
        "colab": {
          "base_uri": "https://localhost:8080/",
          "height": 425
        }
      },
      "source": [
        "import statsmodels.api as sm\n",
        "\n",
        "# Separate the predictors from the response variable\n",
        "X = df2[predictors]\n",
        "y = df2['meantempm']\n",
        "\n",
        "# Add a constant to the predictor variable set to represent the Bo intercept\n",
        "X = sm.add_constant(X)\n",
        "X.ix[:5, :5]"
      ],
      "execution_count": 7,
      "outputs": [
        {
          "output_type": "stream",
          "text": [
            "/usr/local/lib/python3.6/dist-packages/numpy/core/fromnumeric.py:2389: FutureWarning: Method .ptp is deprecated and will be removed in a future version. Use numpy.ptp instead.\n",
            "  return ptp(axis=axis, out=out, **kwargs)\n",
            "/usr/local/lib/python3.6/dist-packages/ipykernel_launcher.py:9: DeprecationWarning: \n",
            ".ix is deprecated. Please use\n",
            ".loc for label based indexing or\n",
            ".iloc for positional indexing\n",
            "\n",
            "See the documentation here:\n",
            "http://pandas.pydata.org/pandas-docs/stable/indexing.html#ix-indexer-is-deprecated\n",
            "  if __name__ == '__main__':\n"
          ],
          "name": "stderr"
        },
        {
          "output_type": "execute_result",
          "data": {
            "text/html": [
              "<div>\n",
              "<style scoped>\n",
              "    .dataframe tbody tr th:only-of-type {\n",
              "        vertical-align: middle;\n",
              "    }\n",
              "\n",
              "    .dataframe tbody tr th {\n",
              "        vertical-align: top;\n",
              "    }\n",
              "\n",
              "    .dataframe thead th {\n",
              "        text-align: right;\n",
              "    }\n",
              "</style>\n",
              "<table border=\"1\" class=\"dataframe\">\n",
              "  <thead>\n",
              "    <tr style=\"text-align: right;\">\n",
              "      <th></th>\n",
              "      <th>const</th>\n",
              "      <th>meantempm_1</th>\n",
              "      <th>meantempm_2</th>\n",
              "      <th>meantempm_3</th>\n",
              "      <th>mintempm_1</th>\n",
              "    </tr>\n",
              "    <tr>\n",
              "      <th>date</th>\n",
              "      <th></th>\n",
              "      <th></th>\n",
              "      <th></th>\n",
              "      <th></th>\n",
              "      <th></th>\n",
              "    </tr>\n",
              "  </thead>\n",
              "  <tbody>\n",
              "    <tr>\n",
              "      <th>2015-01-04</th>\n",
              "      <td>1.0</td>\n",
              "      <td>-4.0</td>\n",
              "      <td>-6.0</td>\n",
              "      <td>-6.0</td>\n",
              "      <td>-13.0</td>\n",
              "    </tr>\n",
              "    <tr>\n",
              "      <th>2015-01-05</th>\n",
              "      <td>1.0</td>\n",
              "      <td>-14.0</td>\n",
              "      <td>-4.0</td>\n",
              "      <td>-6.0</td>\n",
              "      <td>-18.0</td>\n",
              "    </tr>\n",
              "    <tr>\n",
              "      <th>2015-01-06</th>\n",
              "      <td>1.0</td>\n",
              "      <td>-9.0</td>\n",
              "      <td>-14.0</td>\n",
              "      <td>-4.0</td>\n",
              "      <td>-14.0</td>\n",
              "    </tr>\n",
              "    <tr>\n",
              "      <th>2015-01-07</th>\n",
              "      <td>1.0</td>\n",
              "      <td>-10.0</td>\n",
              "      <td>-9.0</td>\n",
              "      <td>-14.0</td>\n",
              "      <td>-14.0</td>\n",
              "    </tr>\n",
              "    <tr>\n",
              "      <th>2015-01-08</th>\n",
              "      <td>1.0</td>\n",
              "      <td>-16.0</td>\n",
              "      <td>-10.0</td>\n",
              "      <td>-9.0</td>\n",
              "      <td>-19.0</td>\n",
              "    </tr>\n",
              "  </tbody>\n",
              "</table>\n",
              "</div>"
            ],
            "text/plain": [
              "            const  meantempm_1  meantempm_2  meantempm_3  mintempm_1\n",
              "date                                                                \n",
              "2015-01-04    1.0         -4.0         -6.0         -6.0       -13.0\n",
              "2015-01-05    1.0        -14.0         -4.0         -6.0       -18.0\n",
              "2015-01-06    1.0         -9.0        -14.0         -4.0       -14.0\n",
              "2015-01-07    1.0        -10.0         -9.0        -14.0       -14.0\n",
              "2015-01-08    1.0        -16.0        -10.0         -9.0       -19.0"
            ]
          },
          "metadata": {
            "tags": []
          },
          "execution_count": 7
        }
      ]
    },
    {
      "cell_type": "code",
      "metadata": {
        "id": "F00ju7rvdpR1",
        "colab_type": "code",
        "outputId": "1a926acf-819b-49a0-b16b-c0078dc90f6f",
        "colab": {
          "base_uri": "https://localhost:8080/",
          "height": 801
        }
      },
      "source": [
        "# (1) Select a significance value\n",
        "alpha = 0.05\n",
        "\n",
        "# (2) Fit the model\n",
        "model = sm.OLS(y, X).fit()\n",
        "\n",
        "# (3) Evaluate the coefficients' p-values\n",
        "model.summary()"
      ],
      "execution_count": 8,
      "outputs": [
        {
          "output_type": "execute_result",
          "data": {
            "text/html": [
              "<table class=\"simpletable\">\n",
              "<caption>OLS Regression Results</caption>\n",
              "<tr>\n",
              "  <th>Dep. Variable:</th>        <td>meantempm</td>    <th>  R-squared:         </th> <td>   0.895</td>\n",
              "</tr>\n",
              "<tr>\n",
              "  <th>Model:</th>                   <td>OLS</td>       <th>  Adj. R-squared:    </th> <td>   0.893</td>\n",
              "</tr>\n",
              "<tr>\n",
              "  <th>Method:</th>             <td>Least Squares</td>  <th>  F-statistic:       </th> <td>   462.7</td>\n",
              "</tr>\n",
              "<tr>\n",
              "  <th>Date:</th>             <td>Thu, 13 Jun 2019</td> <th>  Prob (F-statistic):</th>  <td>  0.00</td> \n",
              "</tr>\n",
              "<tr>\n",
              "  <th>Time:</th>                 <td>01:56:48</td>     <th>  Log-Likelihood:    </th> <td> -2679.2</td>\n",
              "</tr>\n",
              "<tr>\n",
              "  <th>No. Observations:</th>      <td>   997</td>      <th>  AIC:               </th> <td>   5396.</td>\n",
              "</tr>\n",
              "<tr>\n",
              "  <th>Df Residuals:</th>          <td>   978</td>      <th>  BIC:               </th> <td>   5490.</td>\n",
              "</tr>\n",
              "<tr>\n",
              "  <th>Df Model:</th>              <td>    18</td>      <th>                     </th>     <td> </td>   \n",
              "</tr>\n",
              "<tr>\n",
              "  <th>Covariance Type:</th>      <td>nonrobust</td>    <th>                     </th>     <td> </td>   \n",
              "</tr>\n",
              "</table>\n",
              "<table class=\"simpletable\">\n",
              "<tr>\n",
              "        <td></td>          <th>coef</th>     <th>std err</th>      <th>t</th>      <th>P>|t|</th>  <th>[0.025</th>    <th>0.975]</th>  \n",
              "</tr>\n",
              "<tr>\n",
              "  <th>const</th>        <td>    1.0769</td> <td>    0.526</td> <td>    2.049</td> <td> 0.041</td> <td>    0.046</td> <td>    2.108</td>\n",
              "</tr>\n",
              "<tr>\n",
              "  <th>meantempm_1</th>  <td>    0.1047</td> <td>    0.287</td> <td>    0.364</td> <td> 0.716</td> <td>   -0.459</td> <td>    0.669</td>\n",
              "</tr>\n",
              "<tr>\n",
              "  <th>meantempm_2</th>  <td>    0.3512</td> <td>    0.287</td> <td>    1.225</td> <td> 0.221</td> <td>   -0.211</td> <td>    0.914</td>\n",
              "</tr>\n",
              "<tr>\n",
              "  <th>meantempm_3</th>  <td>   -0.1084</td> <td>    0.286</td> <td>   -0.379</td> <td> 0.705</td> <td>   -0.669</td> <td>    0.453</td>\n",
              "</tr>\n",
              "<tr>\n",
              "  <th>mintempm_1</th>   <td>    0.0805</td> <td>    0.149</td> <td>    0.539</td> <td> 0.590</td> <td>   -0.213</td> <td>    0.373</td>\n",
              "</tr>\n",
              "<tr>\n",
              "  <th>mintempm_2</th>   <td>   -0.2371</td> <td>    0.149</td> <td>   -1.587</td> <td> 0.113</td> <td>   -0.530</td> <td>    0.056</td>\n",
              "</tr>\n",
              "<tr>\n",
              "  <th>mintempm_3</th>   <td>    0.1521</td> <td>    0.148</td> <td>    1.028</td> <td> 0.304</td> <td>   -0.138</td> <td>    0.443</td>\n",
              "</tr>\n",
              "<tr>\n",
              "  <th>meandewptm_1</th> <td>   -0.0418</td> <td>    0.138</td> <td>   -0.304</td> <td> 0.761</td> <td>   -0.312</td> <td>    0.228</td>\n",
              "</tr>\n",
              "<tr>\n",
              "  <th>meandewptm_2</th> <td>   -0.0121</td> <td>    0.138</td> <td>   -0.088</td> <td> 0.930</td> <td>   -0.282</td> <td>    0.258</td>\n",
              "</tr>\n",
              "<tr>\n",
              "  <th>meandewptm_3</th> <td>   -0.0060</td> <td>    0.137</td> <td>   -0.044</td> <td> 0.965</td> <td>   -0.275</td> <td>    0.263</td>\n",
              "</tr>\n",
              "<tr>\n",
              "  <th>maxdewptm_1</th>  <td>   -0.1592</td> <td>    0.091</td> <td>   -1.756</td> <td> 0.079</td> <td>   -0.337</td> <td>    0.019</td>\n",
              "</tr>\n",
              "<tr>\n",
              "  <th>maxdewptm_2</th>  <td>   -0.0113</td> <td>    0.091</td> <td>   -0.125</td> <td> 0.900</td> <td>   -0.189</td> <td>    0.166</td>\n",
              "</tr>\n",
              "<tr>\n",
              "  <th>maxdewptm_3</th>  <td>    0.1326</td> <td>    0.089</td> <td>    1.492</td> <td> 0.136</td> <td>   -0.042</td> <td>    0.307</td>\n",
              "</tr>\n",
              "<tr>\n",
              "  <th>mindewptm_1</th>  <td>    0.3638</td> <td>    0.084</td> <td>    4.346</td> <td> 0.000</td> <td>    0.200</td> <td>    0.528</td>\n",
              "</tr>\n",
              "<tr>\n",
              "  <th>mindewptm_2</th>  <td>   -0.0119</td> <td>    0.088</td> <td>   -0.136</td> <td> 0.892</td> <td>   -0.184</td> <td>    0.160</td>\n",
              "</tr>\n",
              "<tr>\n",
              "  <th>mindewptm_3</th>  <td>   -0.0239</td> <td>    0.086</td> <td>   -0.279</td> <td> 0.780</td> <td>   -0.192</td> <td>    0.144</td>\n",
              "</tr>\n",
              "<tr>\n",
              "  <th>maxtempm_1</th>   <td>    0.5042</td> <td>    0.147</td> <td>    3.438</td> <td> 0.001</td> <td>    0.216</td> <td>    0.792</td>\n",
              "</tr>\n",
              "<tr>\n",
              "  <th>maxtempm_2</th>   <td>   -0.2154</td> <td>    0.147</td> <td>   -1.464</td> <td> 0.143</td> <td>   -0.504</td> <td>    0.073</td>\n",
              "</tr>\n",
              "<tr>\n",
              "  <th>maxtempm_3</th>   <td>    0.0809</td> <td>    0.146</td> <td>    0.555</td> <td> 0.579</td> <td>   -0.205</td> <td>    0.367</td>\n",
              "</tr>\n",
              "</table>\n",
              "<table class=\"simpletable\">\n",
              "<tr>\n",
              "  <th>Omnibus:</th>       <td>13.252</td> <th>  Durbin-Watson:     </th> <td>   2.015</td>\n",
              "</tr>\n",
              "<tr>\n",
              "  <th>Prob(Omnibus):</th> <td> 0.001</td> <th>  Jarque-Bera (JB):  </th> <td>  17.097</td>\n",
              "</tr>\n",
              "<tr>\n",
              "  <th>Skew:</th>          <td>-0.163</td> <th>  Prob(JB):          </th> <td>0.000194</td>\n",
              "</tr>\n",
              "<tr>\n",
              "  <th>Kurtosis:</th>      <td> 3.552</td> <th>  Cond. No.          </th> <td>    291.</td>\n",
              "</tr>\n",
              "</table><br/><br/>Warnings:<br/>[1] Standard Errors assume that the covariance matrix of the errors is correctly specified."
            ],
            "text/plain": [
              "<class 'statsmodels.iolib.summary.Summary'>\n",
              "\"\"\"\n",
              "                            OLS Regression Results                            \n",
              "==============================================================================\n",
              "Dep. Variable:              meantempm   R-squared:                       0.895\n",
              "Model:                            OLS   Adj. R-squared:                  0.893\n",
              "Method:                 Least Squares   F-statistic:                     462.7\n",
              "Date:                Thu, 13 Jun 2019   Prob (F-statistic):               0.00\n",
              "Time:                        01:56:48   Log-Likelihood:                -2679.2\n",
              "No. Observations:                 997   AIC:                             5396.\n",
              "Df Residuals:                     978   BIC:                             5490.\n",
              "Df Model:                          18                                         \n",
              "Covariance Type:            nonrobust                                         \n",
              "================================================================================\n",
              "                   coef    std err          t      P>|t|      [0.025      0.975]\n",
              "--------------------------------------------------------------------------------\n",
              "const            1.0769      0.526      2.049      0.041       0.046       2.108\n",
              "meantempm_1      0.1047      0.287      0.364      0.716      -0.459       0.669\n",
              "meantempm_2      0.3512      0.287      1.225      0.221      -0.211       0.914\n",
              "meantempm_3     -0.1084      0.286     -0.379      0.705      -0.669       0.453\n",
              "mintempm_1       0.0805      0.149      0.539      0.590      -0.213       0.373\n",
              "mintempm_2      -0.2371      0.149     -1.587      0.113      -0.530       0.056\n",
              "mintempm_3       0.1521      0.148      1.028      0.304      -0.138       0.443\n",
              "meandewptm_1    -0.0418      0.138     -0.304      0.761      -0.312       0.228\n",
              "meandewptm_2    -0.0121      0.138     -0.088      0.930      -0.282       0.258\n",
              "meandewptm_3    -0.0060      0.137     -0.044      0.965      -0.275       0.263\n",
              "maxdewptm_1     -0.1592      0.091     -1.756      0.079      -0.337       0.019\n",
              "maxdewptm_2     -0.0113      0.091     -0.125      0.900      -0.189       0.166\n",
              "maxdewptm_3      0.1326      0.089      1.492      0.136      -0.042       0.307\n",
              "mindewptm_1      0.3638      0.084      4.346      0.000       0.200       0.528\n",
              "mindewptm_2     -0.0119      0.088     -0.136      0.892      -0.184       0.160\n",
              "mindewptm_3     -0.0239      0.086     -0.279      0.780      -0.192       0.144\n",
              "maxtempm_1       0.5042      0.147      3.438      0.001       0.216       0.792\n",
              "maxtempm_2      -0.2154      0.147     -1.464      0.143      -0.504       0.073\n",
              "maxtempm_3       0.0809      0.146      0.555      0.579      -0.205       0.367\n",
              "==============================================================================\n",
              "Omnibus:                       13.252   Durbin-Watson:                   2.015\n",
              "Prob(Omnibus):                  0.001   Jarque-Bera (JB):               17.097\n",
              "Skew:                          -0.163   Prob(JB):                     0.000194\n",
              "Kurtosis:                       3.552   Cond. No.                         291.\n",
              "==============================================================================\n",
              "\n",
              "Warnings:\n",
              "[1] Standard Errors assume that the covariance matrix of the errors is correctly specified.\n",
              "\"\"\""
            ]
          },
          "metadata": {
            "tags": []
          },
          "execution_count": 8
        }
      ]
    },
    {
      "cell_type": "code",
      "metadata": {
        "id": "IH0iOoD6dpR4",
        "colab_type": "code",
        "outputId": "25488d73-8c49-41b0-d329-c8fb7b52dd88",
        "colab": {
          "base_uri": "https://localhost:8080/",
          "height": 780
        }
      },
      "source": [
        "# (4) Identify the predictor with the greatest p-value and \n",
        "#     assess if it's > the selected alpha\n",
        "\n",
        "#     Above, meandewptm_3 has the greatest p-value and that it is\n",
        "#     greater than our alpha of 0.05\n",
        "\n",
        "# (5) Drop the predictor identified in (4)\n",
        "X = X.drop('meandewptm_3', axis=1)\n",
        "\n",
        "# (6) Fit the model \n",
        "model = sm.OLS(y, X).fit()\n",
        "\n",
        "model.summary()"
      ],
      "execution_count": 9,
      "outputs": [
        {
          "output_type": "execute_result",
          "data": {
            "text/html": [
              "<table class=\"simpletable\">\n",
              "<caption>OLS Regression Results</caption>\n",
              "<tr>\n",
              "  <th>Dep. Variable:</th>        <td>meantempm</td>    <th>  R-squared:         </th> <td>   0.895</td>\n",
              "</tr>\n",
              "<tr>\n",
              "  <th>Model:</th>                   <td>OLS</td>       <th>  Adj. R-squared:    </th> <td>   0.893</td>\n",
              "</tr>\n",
              "<tr>\n",
              "  <th>Method:</th>             <td>Least Squares</td>  <th>  F-statistic:       </th> <td>   490.4</td>\n",
              "</tr>\n",
              "<tr>\n",
              "  <th>Date:</th>             <td>Thu, 13 Jun 2019</td> <th>  Prob (F-statistic):</th>  <td>  0.00</td> \n",
              "</tr>\n",
              "<tr>\n",
              "  <th>Time:</th>                 <td>01:58:06</td>     <th>  Log-Likelihood:    </th> <td> -2679.2</td>\n",
              "</tr>\n",
              "<tr>\n",
              "  <th>No. Observations:</th>      <td>   997</td>      <th>  AIC:               </th> <td>   5394.</td>\n",
              "</tr>\n",
              "<tr>\n",
              "  <th>Df Residuals:</th>          <td>   979</td>      <th>  BIC:               </th> <td>   5483.</td>\n",
              "</tr>\n",
              "<tr>\n",
              "  <th>Df Model:</th>              <td>    17</td>      <th>                     </th>     <td> </td>   \n",
              "</tr>\n",
              "<tr>\n",
              "  <th>Covariance Type:</th>      <td>nonrobust</td>    <th>                     </th>     <td> </td>   \n",
              "</tr>\n",
              "</table>\n",
              "<table class=\"simpletable\">\n",
              "<tr>\n",
              "        <td></td>          <th>coef</th>     <th>std err</th>      <th>t</th>      <th>P>|t|</th>  <th>[0.025</th>    <th>0.975]</th>  \n",
              "</tr>\n",
              "<tr>\n",
              "  <th>const</th>        <td>    1.0771</td> <td>    0.525</td> <td>    2.051</td> <td> 0.041</td> <td>    0.046</td> <td>    2.108</td>\n",
              "</tr>\n",
              "<tr>\n",
              "  <th>meantempm_1</th>  <td>    0.1040</td> <td>    0.287</td> <td>    0.363</td> <td> 0.717</td> <td>   -0.459</td> <td>    0.667</td>\n",
              "</tr>\n",
              "<tr>\n",
              "  <th>meantempm_2</th>  <td>    0.3513</td> <td>    0.286</td> <td>    1.226</td> <td> 0.220</td> <td>   -0.211</td> <td>    0.913</td>\n",
              "</tr>\n",
              "<tr>\n",
              "  <th>meantempm_3</th>  <td>   -0.1082</td> <td>    0.286</td> <td>   -0.379</td> <td> 0.705</td> <td>   -0.669</td> <td>    0.452</td>\n",
              "</tr>\n",
              "<tr>\n",
              "  <th>mintempm_1</th>   <td>    0.0809</td> <td>    0.149</td> <td>    0.543</td> <td> 0.587</td> <td>   -0.211</td> <td>    0.373</td>\n",
              "</tr>\n",
              "<tr>\n",
              "  <th>mintempm_2</th>   <td>   -0.2371</td> <td>    0.149</td> <td>   -1.588</td> <td> 0.113</td> <td>   -0.530</td> <td>    0.056</td>\n",
              "</tr>\n",
              "<tr>\n",
              "  <th>mintempm_3</th>   <td>    0.1520</td> <td>    0.148</td> <td>    1.028</td> <td> 0.304</td> <td>   -0.138</td> <td>    0.442</td>\n",
              "</tr>\n",
              "<tr>\n",
              "  <th>meandewptm_1</th> <td>   -0.0419</td> <td>    0.137</td> <td>   -0.305</td> <td> 0.761</td> <td>   -0.312</td> <td>    0.228</td>\n",
              "</tr>\n",
              "<tr>\n",
              "  <th>meandewptm_2</th> <td>   -0.0121</td> <td>    0.138</td> <td>   -0.088</td> <td> 0.930</td> <td>   -0.282</td> <td>    0.258</td>\n",
              "</tr>\n",
              "<tr>\n",
              "  <th>maxdewptm_1</th>  <td>   -0.1592</td> <td>    0.091</td> <td>   -1.757</td> <td> 0.079</td> <td>   -0.337</td> <td>    0.019</td>\n",
              "</tr>\n",
              "<tr>\n",
              "  <th>maxdewptm_2</th>  <td>   -0.0115</td> <td>    0.090</td> <td>   -0.127</td> <td> 0.899</td> <td>   -0.189</td> <td>    0.166</td>\n",
              "</tr>\n",
              "<tr>\n",
              "  <th>maxdewptm_3</th>  <td>    0.1293</td> <td>    0.048</td> <td>    2.705</td> <td> 0.007</td> <td>    0.036</td> <td>    0.223</td>\n",
              "</tr>\n",
              "<tr>\n",
              "  <th>mindewptm_1</th>  <td>    0.3638</td> <td>    0.084</td> <td>    4.349</td> <td> 0.000</td> <td>    0.200</td> <td>    0.528</td>\n",
              "</tr>\n",
              "<tr>\n",
              "  <th>mindewptm_2</th>  <td>   -0.0119</td> <td>    0.088</td> <td>   -0.135</td> <td> 0.892</td> <td>   -0.184</td> <td>    0.160</td>\n",
              "</tr>\n",
              "<tr>\n",
              "  <th>mindewptm_3</th>  <td>   -0.0266</td> <td>    0.058</td> <td>   -0.456</td> <td> 0.648</td> <td>   -0.141</td> <td>    0.088</td>\n",
              "</tr>\n",
              "<tr>\n",
              "  <th>maxtempm_1</th>   <td>    0.5046</td> <td>    0.146</td> <td>    3.448</td> <td> 0.001</td> <td>    0.217</td> <td>    0.792</td>\n",
              "</tr>\n",
              "<tr>\n",
              "  <th>maxtempm_2</th>   <td>   -0.2154</td> <td>    0.147</td> <td>   -1.465</td> <td> 0.143</td> <td>   -0.504</td> <td>    0.073</td>\n",
              "</tr>\n",
              "<tr>\n",
              "  <th>maxtempm_3</th>   <td>    0.0809</td> <td>    0.146</td> <td>    0.556</td> <td> 0.579</td> <td>   -0.205</td> <td>    0.367</td>\n",
              "</tr>\n",
              "</table>\n",
              "<table class=\"simpletable\">\n",
              "<tr>\n",
              "  <th>Omnibus:</th>       <td>13.254</td> <th>  Durbin-Watson:     </th> <td>   2.015</td>\n",
              "</tr>\n",
              "<tr>\n",
              "  <th>Prob(Omnibus):</th> <td> 0.001</td> <th>  Jarque-Bera (JB):  </th> <td>  17.105</td>\n",
              "</tr>\n",
              "<tr>\n",
              "  <th>Skew:</th>          <td>-0.163</td> <th>  Prob(JB):          </th> <td>0.000193</td>\n",
              "</tr>\n",
              "<tr>\n",
              "  <th>Kurtosis:</th>      <td> 3.553</td> <th>  Cond. No.          </th> <td>    286.</td>\n",
              "</tr>\n",
              "</table><br/><br/>Warnings:<br/>[1] Standard Errors assume that the covariance matrix of the errors is correctly specified."
            ],
            "text/plain": [
              "<class 'statsmodels.iolib.summary.Summary'>\n",
              "\"\"\"\n",
              "                            OLS Regression Results                            \n",
              "==============================================================================\n",
              "Dep. Variable:              meantempm   R-squared:                       0.895\n",
              "Model:                            OLS   Adj. R-squared:                  0.893\n",
              "Method:                 Least Squares   F-statistic:                     490.4\n",
              "Date:                Thu, 13 Jun 2019   Prob (F-statistic):               0.00\n",
              "Time:                        01:58:06   Log-Likelihood:                -2679.2\n",
              "No. Observations:                 997   AIC:                             5394.\n",
              "Df Residuals:                     979   BIC:                             5483.\n",
              "Df Model:                          17                                         \n",
              "Covariance Type:            nonrobust                                         \n",
              "================================================================================\n",
              "                   coef    std err          t      P>|t|      [0.025      0.975]\n",
              "--------------------------------------------------------------------------------\n",
              "const            1.0771      0.525      2.051      0.041       0.046       2.108\n",
              "meantempm_1      0.1040      0.287      0.363      0.717      -0.459       0.667\n",
              "meantempm_2      0.3513      0.286      1.226      0.220      -0.211       0.913\n",
              "meantempm_3     -0.1082      0.286     -0.379      0.705      -0.669       0.452\n",
              "mintempm_1       0.0809      0.149      0.543      0.587      -0.211       0.373\n",
              "mintempm_2      -0.2371      0.149     -1.588      0.113      -0.530       0.056\n",
              "mintempm_3       0.1520      0.148      1.028      0.304      -0.138       0.442\n",
              "meandewptm_1    -0.0419      0.137     -0.305      0.761      -0.312       0.228\n",
              "meandewptm_2    -0.0121      0.138     -0.088      0.930      -0.282       0.258\n",
              "maxdewptm_1     -0.1592      0.091     -1.757      0.079      -0.337       0.019\n",
              "maxdewptm_2     -0.0115      0.090     -0.127      0.899      -0.189       0.166\n",
              "maxdewptm_3      0.1293      0.048      2.705      0.007       0.036       0.223\n",
              "mindewptm_1      0.3638      0.084      4.349      0.000       0.200       0.528\n",
              "mindewptm_2     -0.0119      0.088     -0.135      0.892      -0.184       0.160\n",
              "mindewptm_3     -0.0266      0.058     -0.456      0.648      -0.141       0.088\n",
              "maxtempm_1       0.5046      0.146      3.448      0.001       0.217       0.792\n",
              "maxtempm_2      -0.2154      0.147     -1.465      0.143      -0.504       0.073\n",
              "maxtempm_3       0.0809      0.146      0.556      0.579      -0.205       0.367\n",
              "==============================================================================\n",
              "Omnibus:                       13.254   Durbin-Watson:                   2.015\n",
              "Prob(Omnibus):                  0.001   Jarque-Bera (JB):               17.105\n",
              "Skew:                          -0.163   Prob(JB):                     0.000193\n",
              "Kurtosis:                       3.553   Cond. No.                         286.\n",
              "==============================================================================\n",
              "\n",
              "Warnings:\n",
              "[1] Standard Errors assume that the covariance matrix of the errors is correctly specified.\n",
              "\"\"\""
            ]
          },
          "metadata": {
            "tags": []
          },
          "execution_count": 9
        }
      ]
    },
    {
      "cell_type": "markdown",
      "metadata": {
        "id": "thOXhXsFjrm8",
        "colab_type": "text"
      },
      "source": [
        "### Keep only the variables that pass the criterion."
      ]
    },
    {
      "cell_type": "code",
      "metadata": {
        "id": "KfltoWmDdpR6",
        "colab_type": "code",
        "colab": {}
      },
      "source": [
        "X = X[['const','mintempm_1', 'mintempm_2', 'mintempm_3', 'maxdewptm_1', 'maxdewptm_3', 'mindewptm_1', 'maxtempm_1']]"
      ],
      "execution_count": 0,
      "outputs": []
    },
    {
      "cell_type": "markdown",
      "metadata": {
        "id": "g-VCTvmOfAhV",
        "colab_type": "text"
      },
      "source": [
        "Below is the output from the final model. All the remaining predictors each have a p-value significantly below the selected $\\alpha$ of 0.05. \n",
        "\n",
        "Other observations:\n",
        "1.   The r-squared and adj. r-squared values are both equal which suggests that there is minimal risk that the model is being over fitted by excessive variables.\n",
        "2.   The value of 0.894 is interpreted such that the final model explains about 90% of the observed variation in the outcome variable, the meantempm.\n",
        "\n",
        "\n"
      ]
    },
    {
      "cell_type": "code",
      "metadata": {
        "id": "ssoiZcm7dpR8",
        "colab_type": "code",
        "outputId": "95c6df96-ffa7-4825-8529-7f56bf1fd34a",
        "colab": {
          "base_uri": "https://localhost:8080/",
          "height": 570
        }
      },
      "source": [
        "model = sm.OLS(y, X).fit()\n",
        "model.summary()"
      ],
      "execution_count": 12,
      "outputs": [
        {
          "output_type": "execute_result",
          "data": {
            "text/html": [
              "<table class=\"simpletable\">\n",
              "<caption>OLS Regression Results</caption>\n",
              "<tr>\n",
              "  <th>Dep. Variable:</th>        <td>meantempm</td>    <th>  R-squared:         </th> <td>   0.894</td>\n",
              "</tr>\n",
              "<tr>\n",
              "  <th>Model:</th>                   <td>OLS</td>       <th>  Adj. R-squared:    </th> <td>   0.894</td>\n",
              "</tr>\n",
              "<tr>\n",
              "  <th>Method:</th>             <td>Least Squares</td>  <th>  F-statistic:       </th> <td>   1196.</td>\n",
              "</tr>\n",
              "<tr>\n",
              "  <th>Date:</th>             <td>Thu, 13 Jun 2019</td> <th>  Prob (F-statistic):</th>  <td>  0.00</td> \n",
              "</tr>\n",
              "<tr>\n",
              "  <th>Time:</th>                 <td>02:00:52</td>     <th>  Log-Likelihood:    </th> <td> -2681.7</td>\n",
              "</tr>\n",
              "<tr>\n",
              "  <th>No. Observations:</th>      <td>   997</td>      <th>  AIC:               </th> <td>   5379.</td>\n",
              "</tr>\n",
              "<tr>\n",
              "  <th>Df Residuals:</th>          <td>   989</td>      <th>  BIC:               </th> <td>   5419.</td>\n",
              "</tr>\n",
              "<tr>\n",
              "  <th>Df Model:</th>              <td>     7</td>      <th>                     </th>     <td> </td>   \n",
              "</tr>\n",
              "<tr>\n",
              "  <th>Covariance Type:</th>      <td>nonrobust</td>    <th>                     </th>     <td> </td>   \n",
              "</tr>\n",
              "</table>\n",
              "<table class=\"simpletable\">\n",
              "<tr>\n",
              "       <td></td>          <th>coef</th>     <th>std err</th>      <th>t</th>      <th>P>|t|</th>  <th>[0.025</th>    <th>0.975]</th>  \n",
              "</tr>\n",
              "<tr>\n",
              "  <th>const</th>       <td>    1.1534</td> <td>    0.411</td> <td>    2.804</td> <td> 0.005</td> <td>    0.346</td> <td>    1.961</td>\n",
              "</tr>\n",
              "<tr>\n",
              "  <th>mintempm_1</th>  <td>    0.1310</td> <td>    0.053</td> <td>    2.458</td> <td> 0.014</td> <td>    0.026</td> <td>    0.236</td>\n",
              "</tr>\n",
              "<tr>\n",
              "  <th>mintempm_2</th>  <td>   -0.0964</td> <td>    0.037</td> <td>   -2.620</td> <td> 0.009</td> <td>   -0.169</td> <td>   -0.024</td>\n",
              "</tr>\n",
              "<tr>\n",
              "  <th>mintempm_3</th>  <td>    0.0886</td> <td>    0.041</td> <td>    2.183</td> <td> 0.029</td> <td>    0.009</td> <td>    0.168</td>\n",
              "</tr>\n",
              "<tr>\n",
              "  <th>maxdewptm_1</th> <td>   -0.1939</td> <td>    0.047</td> <td>   -4.117</td> <td> 0.000</td> <td>   -0.286</td> <td>   -0.101</td>\n",
              "</tr>\n",
              "<tr>\n",
              "  <th>maxdewptm_3</th> <td>    0.1269</td> <td>    0.040</td> <td>    3.191</td> <td> 0.001</td> <td>    0.049</td> <td>    0.205</td>\n",
              "</tr>\n",
              "<tr>\n",
              "  <th>mindewptm_1</th> <td>    0.3352</td> <td>    0.051</td> <td>    6.605</td> <td> 0.000</td> <td>    0.236</td> <td>    0.435</td>\n",
              "</tr>\n",
              "<tr>\n",
              "  <th>maxtempm_1</th>  <td>    0.5506</td> <td>    0.024</td> <td>   22.507</td> <td> 0.000</td> <td>    0.503</td> <td>    0.599</td>\n",
              "</tr>\n",
              "</table>\n",
              "<table class=\"simpletable\">\n",
              "<tr>\n",
              "  <th>Omnibus:</th>       <td>13.123</td> <th>  Durbin-Watson:     </th> <td>   1.969</td>\n",
              "</tr>\n",
              "<tr>\n",
              "  <th>Prob(Omnibus):</th> <td> 0.001</td> <th>  Jarque-Bera (JB):  </th> <td>  16.871</td>\n",
              "</tr>\n",
              "<tr>\n",
              "  <th>Skew:</th>          <td>-0.163</td> <th>  Prob(JB):          </th> <td>0.000217</td>\n",
              "</tr>\n",
              "<tr>\n",
              "  <th>Kurtosis:</th>      <td> 3.548</td> <th>  Cond. No.          </th> <td>    134.</td>\n",
              "</tr>\n",
              "</table><br/><br/>Warnings:<br/>[1] Standard Errors assume that the covariance matrix of the errors is correctly specified."
            ],
            "text/plain": [
              "<class 'statsmodels.iolib.summary.Summary'>\n",
              "\"\"\"\n",
              "                            OLS Regression Results                            \n",
              "==============================================================================\n",
              "Dep. Variable:              meantempm   R-squared:                       0.894\n",
              "Model:                            OLS   Adj. R-squared:                  0.894\n",
              "Method:                 Least Squares   F-statistic:                     1196.\n",
              "Date:                Thu, 13 Jun 2019   Prob (F-statistic):               0.00\n",
              "Time:                        02:00:52   Log-Likelihood:                -2681.7\n",
              "No. Observations:                 997   AIC:                             5379.\n",
              "Df Residuals:                     989   BIC:                             5419.\n",
              "Df Model:                           7                                         \n",
              "Covariance Type:            nonrobust                                         \n",
              "===============================================================================\n",
              "                  coef    std err          t      P>|t|      [0.025      0.975]\n",
              "-------------------------------------------------------------------------------\n",
              "const           1.1534      0.411      2.804      0.005       0.346       1.961\n",
              "mintempm_1      0.1310      0.053      2.458      0.014       0.026       0.236\n",
              "mintempm_2     -0.0964      0.037     -2.620      0.009      -0.169      -0.024\n",
              "mintempm_3      0.0886      0.041      2.183      0.029       0.009       0.168\n",
              "maxdewptm_1    -0.1939      0.047     -4.117      0.000      -0.286      -0.101\n",
              "maxdewptm_3     0.1269      0.040      3.191      0.001       0.049       0.205\n",
              "mindewptm_1     0.3352      0.051      6.605      0.000       0.236       0.435\n",
              "maxtempm_1      0.5506      0.024     22.507      0.000       0.503       0.599\n",
              "==============================================================================\n",
              "Omnibus:                       13.123   Durbin-Watson:                   1.969\n",
              "Prob(Omnibus):                  0.001   Jarque-Bera (JB):               16.871\n",
              "Skew:                          -0.163   Prob(JB):                     0.000217\n",
              "Kurtosis:                       3.548   Cond. No.                         134.\n",
              "==============================================================================\n",
              "\n",
              "Warnings:\n",
              "[1] Standard Errors assume that the covariance matrix of the errors is correctly specified.\n",
              "\"\"\""
            ]
          },
          "metadata": {
            "tags": []
          },
          "execution_count": 12
        }
      ]
    },
    {
      "cell_type": "markdown",
      "metadata": {
        "id": "hcL6eDAjdpR-",
        "colab_type": "text"
      },
      "source": [
        "### Predict using sklearn's Linear Regression model.\n",
        "Train the dataset on sklearn's Linear Regression model.\n",
        "\n"
      ]
    },
    {
      "cell_type": "markdown",
      "metadata": {
        "id": "SNiu1Um7kUuc",
        "colab_type": "text"
      },
      "source": [
        "### Split the data into training and test sets."
      ]
    },
    {
      "cell_type": "code",
      "metadata": {
        "id": "6DQ4ZSC1dpSB",
        "colab_type": "code",
        "colab": {}
      },
      "source": [
        "from sklearn.model_selection import train_test_split\n",
        "\n",
        "# const column is not needed here\n",
        "X = X.drop('const', axis=1)\n",
        "\n",
        "X_train, X_test, y_train, y_test = train_test_split(X, y, test_size=0.2, random_state=12)"
      ],
      "execution_count": 0,
      "outputs": []
    },
    {
      "cell_type": "markdown",
      "metadata": {
        "id": "_CGvCIu3kZo6",
        "colab_type": "text"
      },
      "source": [
        "### Train and test."
      ]
    },
    {
      "cell_type": "code",
      "metadata": {
        "id": "4m9xTIoddpSH",
        "colab_type": "code",
        "outputId": "53d4b06c-e1a0-41b8-c9ef-5cf602256499",
        "colab": {
          "base_uri": "https://localhost:8080/",
          "height": 68
        }
      },
      "source": [
        "from sklearn.linear_model import LinearRegression\n",
        "\n",
        "regressor = LinearRegression()\n",
        "\n",
        "regressor.fit(X_train, y_train)\n",
        "\n",
        "prediction = regressor.predict(X_test)\n",
        "\n",
        "from sklearn.metrics import mean_absolute_error, median_absolute_error\n",
        "print(\"The Explained Variance: %.2f\" % regressor.score(X_test, y_test))\n",
        "print(\"The Mean Absolute Error: %.2f degrees Celsius\" % mean_absolute_error(y_test, prediction))\n",
        "print(\"The Median Absolute Error: %.2f degrees Celsius\" % median_absolute_error(y_test, prediction))"
      ],
      "execution_count": 14,
      "outputs": [
        {
          "output_type": "stream",
          "text": [
            "The Explained Variance: 0.90\n",
            "The Mean Absolute Error: 2.69 degrees Celsius\n",
            "The Median Absolute Error: 2.17 degrees Celsius\n"
          ],
          "name": "stdout"
        }
      ]
    },
    {
      "cell_type": "code",
      "metadata": {
        "id": "gUgpYP5TkjlM",
        "colab_type": "code",
        "colab": {}
      },
      "source": [
        ""
      ],
      "execution_count": 0,
      "outputs": []
    },
    {
      "cell_type": "markdown",
      "metadata": {
        "id": "EYmRkN-DdpSK",
        "colab_type": "text"
      },
      "source": [
        "The model is able to explain about 90% of the variance observed in the outcome variable, mean temperature.  Additionally, on average the predicted value is about 3 degrees Celsius off and half of the time it is off by about 2 degrees Celsius."
      ]
    },
    {
      "cell_type": "markdown",
      "metadata": {
        "id": "R25_fNUdk7TT",
        "colab_type": "text"
      },
      "source": [
        "### Save the model.\n",
        "Since our focus is not so much on building a really good machine learning model, this one gives us decent enough results so we save it in a pickle file. This file can be downloaded from the Files tab in Google Colab."
      ]
    },
    {
      "cell_type": "code",
      "metadata": {
        "id": "R2eV0pW-k6LM",
        "colab_type": "code",
        "colab": {}
      },
      "source": [
        "import pickle\n",
        "# save the model to disk\n",
        "filename = 'linear_regression_model.sav'\n",
        "pickle.dump(regressor, open(filename, 'wb'))"
      ],
      "execution_count": 0,
      "outputs": []
    }
  ]
}